{
 "cells": [
  {
   "attachments": {},
   "cell_type": "markdown",
   "id": "innocent-university",
   "metadata": {},
   "source": [
    "# Real Estate Clean up\n",
    "\n",
    "This is a real dataset, and it was downloaded using web scraping techniques. The data contains registers from **Fotocasa** which is one of the most popular real estate websites in Spain. Please, do not do this (web scraping) unless it is for academic purposes.\n",
    "\n",
    "The dataset was downloaded a few years ago by Henry Navarro, and in no case were economic returns obtained from it.\n",
    "\n",
    "It contains thousands of data from real houses published on the web www.fotocasa.com. Your goal is to extract as much information as possible with the knowledge you have so far about data science, for example what is the most expensive house in the entire dataset?\n",
    "\n",
    "Let's start with precisely that question... Good luck!"
   ]
  },
  {
   "attachments": {},
   "cell_type": "markdown",
   "id": "multiple-glass",
   "metadata": {},
   "source": [
    "#### Exercise 00. Read the dataset assets/real_estate.csv and try to visualize the table (★☆☆)"
   ]
  },
  {
   "cell_type": "code",
   "execution_count": 5,
   "id": "frank-heath",
   "metadata": {},
   "outputs": [
    {
     "data": {
      "text/html": [
       "<div>\n",
       "<style scoped>\n",
       "    .dataframe tbody tr th:only-of-type {\n",
       "        vertical-align: middle;\n",
       "    }\n",
       "\n",
       "    .dataframe tbody tr th {\n",
       "        vertical-align: top;\n",
       "    }\n",
       "\n",
       "    .dataframe thead th {\n",
       "        text-align: right;\n",
       "    }\n",
       "</style>\n",
       "<table border=\"1\" class=\"dataframe\">\n",
       "  <thead>\n",
       "    <tr style=\"text-align: right;\">\n",
       "      <th></th>\n",
       "      <th>Unnamed: 0</th>\n",
       "      <th>id_realEstates</th>\n",
       "      <th>isNew</th>\n",
       "      <th>realEstate_name</th>\n",
       "      <th>phone_realEstate</th>\n",
       "      <th>url_inmueble</th>\n",
       "      <th>rooms</th>\n",
       "      <th>bathrooms</th>\n",
       "      <th>surface</th>\n",
       "      <th>price</th>\n",
       "      <th>...</th>\n",
       "      <th>level4Id</th>\n",
       "      <th>level5Id</th>\n",
       "      <th>level6Id</th>\n",
       "      <th>level7Id</th>\n",
       "      <th>level8Id</th>\n",
       "      <th>accuracy</th>\n",
       "      <th>latitude</th>\n",
       "      <th>longitude</th>\n",
       "      <th>zipCode</th>\n",
       "      <th>customZone</th>\n",
       "    </tr>\n",
       "  </thead>\n",
       "  <tbody>\n",
       "    <tr>\n",
       "      <th>0</th>\n",
       "      <td>1</td>\n",
       "      <td>153771986</td>\n",
       "      <td>False</td>\n",
       "      <td>ferrari 57 inmobiliaria</td>\n",
       "      <td>912177526.0</td>\n",
       "      <td>https://www.fotocasa.es/es/comprar/vivienda/ma...</td>\n",
       "      <td>3.0</td>\n",
       "      <td>2.0</td>\n",
       "      <td>103.0</td>\n",
       "      <td>195000</td>\n",
       "      <td>...</td>\n",
       "      <td>0</td>\n",
       "      <td>0</td>\n",
       "      <td>0</td>\n",
       "      <td>0</td>\n",
       "      <td>0</td>\n",
       "      <td>0</td>\n",
       "      <td>40,2948276786438</td>\n",
       "      <td>-3,44402412135624</td>\n",
       "      <td>NaN</td>\n",
       "      <td>NaN</td>\n",
       "    </tr>\n",
       "    <tr>\n",
       "      <th>1</th>\n",
       "      <td>2</td>\n",
       "      <td>153867863</td>\n",
       "      <td>False</td>\n",
       "      <td>tecnocasa fuenlabrada ferrocarril</td>\n",
       "      <td>916358736.0</td>\n",
       "      <td>https://www.fotocasa.es/es/comprar/vivienda/ma...</td>\n",
       "      <td>3.0</td>\n",
       "      <td>1.0</td>\n",
       "      <td>NaN</td>\n",
       "      <td>89000</td>\n",
       "      <td>...</td>\n",
       "      <td>0</td>\n",
       "      <td>0</td>\n",
       "      <td>0</td>\n",
       "      <td>0</td>\n",
       "      <td>0</td>\n",
       "      <td>1</td>\n",
       "      <td>40,28674</td>\n",
       "      <td>-3,79351</td>\n",
       "      <td>NaN</td>\n",
       "      <td>NaN</td>\n",
       "    </tr>\n",
       "    <tr>\n",
       "      <th>2</th>\n",
       "      <td>3</td>\n",
       "      <td>153430440</td>\n",
       "      <td>False</td>\n",
       "      <td>look find boadilla</td>\n",
       "      <td>916350408.0</td>\n",
       "      <td>https://www.fotocasa.es/es/comprar/vivienda/ma...</td>\n",
       "      <td>2.0</td>\n",
       "      <td>2.0</td>\n",
       "      <td>99.0</td>\n",
       "      <td>390000</td>\n",
       "      <td>...</td>\n",
       "      <td>0</td>\n",
       "      <td>0</td>\n",
       "      <td>0</td>\n",
       "      <td>0</td>\n",
       "      <td>0</td>\n",
       "      <td>0</td>\n",
       "      <td>40,4115646786438</td>\n",
       "      <td>-3,90662252135624</td>\n",
       "      <td>NaN</td>\n",
       "      <td>NaN</td>\n",
       "    </tr>\n",
       "    <tr>\n",
       "      <th>3</th>\n",
       "      <td>4</td>\n",
       "      <td>152776331</td>\n",
       "      <td>False</td>\n",
       "      <td>tecnocasa fuenlabrada ferrocarril</td>\n",
       "      <td>916358736.0</td>\n",
       "      <td>https://www.fotocasa.es/es/comprar/vivienda/ma...</td>\n",
       "      <td>3.0</td>\n",
       "      <td>1.0</td>\n",
       "      <td>86.0</td>\n",
       "      <td>89000</td>\n",
       "      <td>...</td>\n",
       "      <td>0</td>\n",
       "      <td>0</td>\n",
       "      <td>0</td>\n",
       "      <td>0</td>\n",
       "      <td>0</td>\n",
       "      <td>0</td>\n",
       "      <td>40,2853785786438</td>\n",
       "      <td>-3,79508142135624</td>\n",
       "      <td>NaN</td>\n",
       "      <td>NaN</td>\n",
       "    </tr>\n",
       "    <tr>\n",
       "      <th>4</th>\n",
       "      <td>5</td>\n",
       "      <td>153180188</td>\n",
       "      <td>False</td>\n",
       "      <td>ferrari 57 inmobiliaria</td>\n",
       "      <td>912177526.0</td>\n",
       "      <td>https://www.fotocasa.es/es/comprar/vivienda/ma...</td>\n",
       "      <td>2.0</td>\n",
       "      <td>2.0</td>\n",
       "      <td>106.0</td>\n",
       "      <td>172000</td>\n",
       "      <td>...</td>\n",
       "      <td>0</td>\n",
       "      <td>0</td>\n",
       "      <td>0</td>\n",
       "      <td>0</td>\n",
       "      <td>0</td>\n",
       "      <td>0</td>\n",
       "      <td>40,2998774864376</td>\n",
       "      <td>-3,45226301356237</td>\n",
       "      <td>NaN</td>\n",
       "      <td>NaN</td>\n",
       "    </tr>\n",
       "    <tr>\n",
       "      <th>...</th>\n",
       "      <td>...</td>\n",
       "      <td>...</td>\n",
       "      <td>...</td>\n",
       "      <td>...</td>\n",
       "      <td>...</td>\n",
       "      <td>...</td>\n",
       "      <td>...</td>\n",
       "      <td>...</td>\n",
       "      <td>...</td>\n",
       "      <td>...</td>\n",
       "      <td>...</td>\n",
       "      <td>...</td>\n",
       "      <td>...</td>\n",
       "      <td>...</td>\n",
       "      <td>...</td>\n",
       "      <td>...</td>\n",
       "      <td>...</td>\n",
       "      <td>...</td>\n",
       "      <td>...</td>\n",
       "      <td>...</td>\n",
       "      <td>...</td>\n",
       "    </tr>\n",
       "    <tr>\n",
       "      <th>15330</th>\n",
       "      <td>15331</td>\n",
       "      <td>153901377</td>\n",
       "      <td>False</td>\n",
       "      <td>infocasa consulting</td>\n",
       "      <td>911360461.0</td>\n",
       "      <td>https://www.fotocasa.es/es/comprar/vivienda/ma...</td>\n",
       "      <td>2.0</td>\n",
       "      <td>1.0</td>\n",
       "      <td>96.0</td>\n",
       "      <td>259470</td>\n",
       "      <td>...</td>\n",
       "      <td>0</td>\n",
       "      <td>0</td>\n",
       "      <td>0</td>\n",
       "      <td>0</td>\n",
       "      <td>0</td>\n",
       "      <td>0</td>\n",
       "      <td>40,45416</td>\n",
       "      <td>-3,70286</td>\n",
       "      <td>NaN</td>\n",
       "      <td>NaN</td>\n",
       "    </tr>\n",
       "    <tr>\n",
       "      <th>15331</th>\n",
       "      <td>15332</td>\n",
       "      <td>150394373</td>\n",
       "      <td>False</td>\n",
       "      <td>inmobiliaria pulpon</td>\n",
       "      <td>912788039.0</td>\n",
       "      <td>https://www.fotocasa.es/es/comprar/vivienda/ma...</td>\n",
       "      <td>3.0</td>\n",
       "      <td>1.0</td>\n",
       "      <td>150.0</td>\n",
       "      <td>165000</td>\n",
       "      <td>...</td>\n",
       "      <td>0</td>\n",
       "      <td>0</td>\n",
       "      <td>0</td>\n",
       "      <td>0</td>\n",
       "      <td>0</td>\n",
       "      <td>0</td>\n",
       "      <td>40,36652</td>\n",
       "      <td>-3,48951</td>\n",
       "      <td>NaN</td>\n",
       "      <td>NaN</td>\n",
       "    </tr>\n",
       "    <tr>\n",
       "      <th>15332</th>\n",
       "      <td>15333</td>\n",
       "      <td>153901397</td>\n",
       "      <td>False</td>\n",
       "      <td>tecnocasa torrelodones</td>\n",
       "      <td>912780348.0</td>\n",
       "      <td>https://www.fotocasa.es/es/comprar/vivienda/ma...</td>\n",
       "      <td>4.0</td>\n",
       "      <td>2.0</td>\n",
       "      <td>175.0</td>\n",
       "      <td>495000</td>\n",
       "      <td>...</td>\n",
       "      <td>0</td>\n",
       "      <td>0</td>\n",
       "      <td>0</td>\n",
       "      <td>0</td>\n",
       "      <td>0</td>\n",
       "      <td>0</td>\n",
       "      <td>40,57444</td>\n",
       "      <td>-3,92124</td>\n",
       "      <td>NaN</td>\n",
       "      <td>NaN</td>\n",
       "    </tr>\n",
       "    <tr>\n",
       "      <th>15333</th>\n",
       "      <td>15334</td>\n",
       "      <td>152607440</td>\n",
       "      <td>False</td>\n",
       "      <td>inmobiliaria pulpon</td>\n",
       "      <td>912788039.0</td>\n",
       "      <td>https://www.fotocasa.es/es/comprar/vivienda/ma...</td>\n",
       "      <td>3.0</td>\n",
       "      <td>2.0</td>\n",
       "      <td>101.0</td>\n",
       "      <td>195000</td>\n",
       "      <td>...</td>\n",
       "      <td>0</td>\n",
       "      <td>0</td>\n",
       "      <td>0</td>\n",
       "      <td>0</td>\n",
       "      <td>0</td>\n",
       "      <td>0</td>\n",
       "      <td>40,36967</td>\n",
       "      <td>-3,48105</td>\n",
       "      <td>NaN</td>\n",
       "      <td>NaN</td>\n",
       "    </tr>\n",
       "    <tr>\n",
       "      <th>15334</th>\n",
       "      <td>15335</td>\n",
       "      <td>153901356</td>\n",
       "      <td>False</td>\n",
       "      <td>infocasa consulting</td>\n",
       "      <td>911360461.0</td>\n",
       "      <td>https://www.fotocasa.es/es/comprar/vivienda/ma...</td>\n",
       "      <td>3.0</td>\n",
       "      <td>2.0</td>\n",
       "      <td>152.0</td>\n",
       "      <td>765000</td>\n",
       "      <td>...</td>\n",
       "      <td>0</td>\n",
       "      <td>0</td>\n",
       "      <td>0</td>\n",
       "      <td>0</td>\n",
       "      <td>0</td>\n",
       "      <td>0</td>\n",
       "      <td>40,45773</td>\n",
       "      <td>-3,69068</td>\n",
       "      <td>NaN</td>\n",
       "      <td>NaN</td>\n",
       "    </tr>\n",
       "  </tbody>\n",
       "</table>\n",
       "<p>15335 rows × 37 columns</p>\n",
       "</div>"
      ],
      "text/plain": [
       "       Unnamed: 0  id_realEstates  isNew                    realEstate_name  \\\n",
       "0               1       153771986  False            ferrari 57 inmobiliaria   \n",
       "1               2       153867863  False  tecnocasa fuenlabrada ferrocarril   \n",
       "2               3       153430440  False                 look find boadilla   \n",
       "3               4       152776331  False  tecnocasa fuenlabrada ferrocarril   \n",
       "4               5       153180188  False            ferrari 57 inmobiliaria   \n",
       "...           ...             ...    ...                                ...   \n",
       "15330       15331       153901377  False                infocasa consulting   \n",
       "15331       15332       150394373  False                inmobiliaria pulpon   \n",
       "15332       15333       153901397  False             tecnocasa torrelodones   \n",
       "15333       15334       152607440  False                inmobiliaria pulpon   \n",
       "15334       15335       153901356  False                infocasa consulting   \n",
       "\n",
       "       phone_realEstate                                       url_inmueble  \\\n",
       "0           912177526.0  https://www.fotocasa.es/es/comprar/vivienda/ma...   \n",
       "1           916358736.0  https://www.fotocasa.es/es/comprar/vivienda/ma...   \n",
       "2           916350408.0  https://www.fotocasa.es/es/comprar/vivienda/ma...   \n",
       "3           916358736.0  https://www.fotocasa.es/es/comprar/vivienda/ma...   \n",
       "4           912177526.0  https://www.fotocasa.es/es/comprar/vivienda/ma...   \n",
       "...                 ...                                                ...   \n",
       "15330       911360461.0  https://www.fotocasa.es/es/comprar/vivienda/ma...   \n",
       "15331       912788039.0  https://www.fotocasa.es/es/comprar/vivienda/ma...   \n",
       "15332       912780348.0  https://www.fotocasa.es/es/comprar/vivienda/ma...   \n",
       "15333       912788039.0  https://www.fotocasa.es/es/comprar/vivienda/ma...   \n",
       "15334       911360461.0  https://www.fotocasa.es/es/comprar/vivienda/ma...   \n",
       "\n",
       "       rooms  bathrooms  surface   price  ... level4Id level5Id level6Id  \\\n",
       "0        3.0        2.0    103.0  195000  ...        0        0        0   \n",
       "1        3.0        1.0      NaN   89000  ...        0        0        0   \n",
       "2        2.0        2.0     99.0  390000  ...        0        0        0   \n",
       "3        3.0        1.0     86.0   89000  ...        0        0        0   \n",
       "4        2.0        2.0    106.0  172000  ...        0        0        0   \n",
       "...      ...        ...      ...     ...  ...      ...      ...      ...   \n",
       "15330    2.0        1.0     96.0  259470  ...        0        0        0   \n",
       "15331    3.0        1.0    150.0  165000  ...        0        0        0   \n",
       "15332    4.0        2.0    175.0  495000  ...        0        0        0   \n",
       "15333    3.0        2.0    101.0  195000  ...        0        0        0   \n",
       "15334    3.0        2.0    152.0  765000  ...        0        0        0   \n",
       "\n",
       "      level7Id level8Id accuracy          latitude          longitude zipCode  \\\n",
       "0            0        0        0  40,2948276786438  -3,44402412135624     NaN   \n",
       "1            0        0        1          40,28674           -3,79351     NaN   \n",
       "2            0        0        0  40,4115646786438  -3,90662252135624     NaN   \n",
       "3            0        0        0  40,2853785786438  -3,79508142135624     NaN   \n",
       "4            0        0        0  40,2998774864376  -3,45226301356237     NaN   \n",
       "...        ...      ...      ...               ...                ...     ...   \n",
       "15330        0        0        0          40,45416           -3,70286     NaN   \n",
       "15331        0        0        0          40,36652           -3,48951     NaN   \n",
       "15332        0        0        0          40,57444           -3,92124     NaN   \n",
       "15333        0        0        0          40,36967           -3,48105     NaN   \n",
       "15334        0        0        0          40,45773           -3,69068     NaN   \n",
       "\n",
       "      customZone  \n",
       "0            NaN  \n",
       "1            NaN  \n",
       "2            NaN  \n",
       "3            NaN  \n",
       "4            NaN  \n",
       "...          ...  \n",
       "15330        NaN  \n",
       "15331        NaN  \n",
       "15332        NaN  \n",
       "15333        NaN  \n",
       "15334        NaN  \n",
       "\n",
       "[15335 rows x 37 columns]"
      ]
     },
     "execution_count": 5,
     "metadata": {},
     "output_type": "execute_result"
    }
   ],
   "source": [
    "import numpy as np\n",
    "import pandas as pd\n",
    "import matplotlib.pyplot as plt\n",
    "from ipyleaflet import Map, basemaps, Marker, LayerGroup, CircleMarker, WidgetControl\n",
    "\n",
    "# This CSV file contains semicolons instead of comas as separator\n",
    "data_set = pd.read_csv('assets/real_estate.csv', sep=';')\n",
    "data_set"
   ]
  },
  {
   "attachments": {},
   "cell_type": "markdown",
   "id": "latin-guest",
   "metadata": {},
   "source": [
    "#### Exercise 01. Which is the most expensive house in the dataset? (★☆☆)\n",
    "\n",
    "Print the address and the price of the selected house. For example:\n",
    "\n",
    "`The house with address General Street Nº5 is the most expensive and its price is 5000000 USD`"
   ]
  },
  {
   "cell_type": "code",
   "execution_count": 6,
   "id": "developing-optimum",
   "metadata": {},
   "outputs": [
    {
     "name": "stdout",
     "output_type": "stream",
     "text": [
      "The house at 13110,    El Escorial is the most expensive and its price is 8500000 USD\n"
     ]
    }
   ],
   "source": [
    "def get_address_with_price(data_frame : pd.DataFrame, price_value : np.int64) -> str:\n",
    "    #Find the column of the highest price house. Using the head() function to prevent multiple values\n",
    "    price_row = data_frame.loc[data_frame['price'] == price_value].head(1)\n",
    "    #Converting the adress value to a String and modifying it for visuals\n",
    "    return price_row['address'].to_string().replace(' ', ', ', 1)\n",
    "\n",
    "max_price = data_set['price'].max()\n",
    "\n",
    "print(f\"The house at {get_address_with_price(data_set, max_price)} is the most expensive and its price is {max_price} USD\")\n"
   ]
  },
  {
   "attachments": {},
   "cell_type": "markdown",
   "id": "lesser-cosmetic",
   "metadata": {},
   "source": [
    "#### Exercise 02. Which is the cheapest house in the dataset? (★☆☆)\n",
    "\n",
    "Print the address and the price of the selected house. For example:\n",
    "\n",
    "`The house with address Concrete Street Nº1 is the cheapest and its price is 12000 USD`"
   ]
  },
  {
   "cell_type": "code",
   "execution_count": 7,
   "id": "lovely-oasis",
   "metadata": {},
   "outputs": [
    {
     "name": "stdout",
     "output_type": "stream",
     "text": [
      "The house at 366,    Parla is the cheapest and its price is 0 USD\n"
     ]
    }
   ],
   "source": [
    "min_price = data_set['price'].min()\n",
    "\n",
    "print(f\"The house at {get_address_with_price(data_set, min_price)} is the cheapest and its price is {min_price} USD\")"
   ]
  },
  {
   "attachments": {},
   "cell_type": "markdown",
   "id": "compliant-fellowship",
   "metadata": {},
   "source": [
    "#### Exercise 03. Which is the biggest and the smallest house in the dataset? (★☆☆)\n",
    "\n",
    "Print both the address and the surface of the selected houses. For example:\n",
    "\n",
    "`The biggest house is located on Yukka Street Nº10 and its surface is 5000 meters`\n",
    "\n",
    "`The smallest house is located on County Road 1 N and its surface is 200 meters`"
   ]
  },
  {
   "cell_type": "code",
   "execution_count": 8,
   "id": "every-tiffany",
   "metadata": {},
   "outputs": [
    {
     "name": "stdout",
     "output_type": "stream",
     "text": [
      "The biggest house is located on 6794,   Sevilla la Nueva and its surface is 249000.0 meters\n",
      "The smallest house is located on 498,   Calle Amparo,  Madrid Capital and its surface is 15.0 meters\n"
     ]
    }
   ],
   "source": [
    "def get_address_with_surface(data_frame : pd.DataFrame, surface_value : np.int64) -> str:\n",
    "    #Find the column of the biggest surface house. Using the head() function to prevent multiple values\n",
    "    surface_row = data_frame.loc[data_frame['surface'] == surface_value].head(1)\n",
    "    #Converting the adress value to a String and modifying it for visuals\n",
    "    return surface_row['address'].to_string().replace(' ', ',', 1)\n",
    "\n",
    "\n",
    "biggest_surface = data_set['surface'].max()\n",
    "\n",
    "\n",
    "smallest_surface = data_set['surface'].min()\n",
    "\n",
    "print(f\"The biggest house is located on {get_address_with_surface(data_set, biggest_surface)} and its surface is {biggest_surface} meters\")\n",
    "print(f\"The smallest house is located on {get_address_with_surface(data_set, smallest_surface)} and its surface is {smallest_surface} meters\")\n"
   ]
  },
  {
   "attachments": {},
   "cell_type": "markdown",
   "id": "danish-spirit",
   "metadata": {},
   "source": [
    "#### Exercise 04. How many populations (level5 column) the dataset contains? (★☆☆)\n",
    "\n",
    "Print the names of the populations with a comma as a separator. For example:\n",
    "\n",
    "`> print(populations)`\n",
    "\n",
    "`population1, population2, population3, ...`"
   ]
  },
  {
   "cell_type": "code",
   "execution_count": 10,
   "id": "exciting-accreditation",
   "metadata": {},
   "outputs": [
    {
     "name": "stdout",
     "output_type": "stream",
     "text": [
      "Populations:  Arganda del Rey, Fuenlabrada, Boadilla del Monte, Las Rozas de Madrid,  Madrid Capital, Villaviciosa de Odón, Pinto, Valdemoro, Navalcarnero, Pozuelo de Alarcón, Torrejón de Ardoz, Navalagamella, San Sebastián de los Reyes, Rivas-vaciamadrid, Alpedrete, Móstoles, San Fernando de Henares, Coslada, Becerril de la Sierra, Alcalá de Henares, Chinchón, Parla, Alcorcón, El Escorial, Leganés, Pedrezuela, Majadahonda, Villanueva de la Cañada, Villanueva del Pardillo, Torrelodones, Moralzarzal, Mejorada del Campo, Aranjuez, Corpa, Getafe, Velilla de San Antonio, Sevilla la Nueva, San Martín de la Vega, Villalbilla, Collado Villalba, Alcobendas, El Molar (Madrid), Moraleja de Enmedio, Algete, Campo Real, Torrejón de la Calzada, Colmenar Viejo, Valdemorillo, Fuente El Saz de Jarama, Tres Cantos, Arroyomolinos (Madrid), Griñón, Paracuellos de Jarama, Guadarrama, Titulcia, Galapagar, Collado Mediano, Los Molinos, San Lorenzo de El Escorial, Loeches, San Martín de Valdeiglesias, Navas del Rey, Bustarviejo, Manzanares El Real, Carabaña, Casarrubuelos, Cercedilla, Fresnedillas de la Oliva, Valdemaqueda, Robledo de Chavela, Miraflores de la Sierra, Humanes de Madrid, Valdetorres de Jarama, San Agustín del Guadalix, Ciempozuelos, Camarma de Esteruelas, Torres de la Alameda, Talamanca de Jarama, El Atazar, Hoyo de Manzanares, El Boalo - Cerceda – Mataelpino, El Álamo, Valdilecha, Valdeolmos-Alalpardo, Guadalix de la Sierra, Belmonte de Tajo, El Vellón, Brunete, Redueña, Morata de Tajuña, Tielmes, Gargantilla del Lozoya, Meco, Venturada, Quijorna, Cenicientos, Torrejón de Velasco, Navacerrada, Santa María de la Alameda, Orusco de Tajuña, Daganzo de Arriba, Villamanta, Anchuelo, Valdaracete, Ajalvir, Los Santos de la Humosa, Villamanrique de Tajo, Colmenar de Oreja, Villa del Prado, Fuentidueña de Tajo, Colmenar del Arroyo, Valdelaguna, Cubas de la Sagra, Valdeavero, Aldea del Fresno, Ribatejada, Torrelaguna, Batres, Pezuela de las Torres, Colmenarejo, Serranillos del Valle, Cobeña, Soto del Real, El Berrueco, Villanueva de Perales, Fresno de Torote - Serracines, Pozuelo del Rey, Pelayos de la Presa, La Cabrera, Nuevo Baztán, Perales de Tajuña, Villaconejos, Villarejo de Salvanés, Cadalso de los Vidrios, Santorcaz, Madarcos, Garganta de los Montes, Puentes Viejas, Torremocha de Jarama, Valdemanco, Braojos, Lozoyuela-navas-sieteiglesias, Piñuécar-gandullas, Valdepiélagos, Valverde de Alcalá, Villar del Olmo, Villamantilla, Horcajo de la Sierra, Gascones, Zarzalejo, Villavieja del Lozoya, Brea de Tajo, Estremera, Chapinería, Navarredonda, Patones, Ambite, Navalafuente, Lozoya, Canencia, Cabanillas de la Sierra, Buitrago del Lozoya, Fresno de Torote, Robregordo, Pinilla del Valle, Rascafría, La Hiruela, Montejo de la Sierra,  \n",
      "\n"
     ]
    }
   ],
   "source": [
    "populations = data_set['level5'].drop_duplicates()\n",
    "\n",
    "def get_population_names() -> str:\n",
    "    #Removing duplicate populations\n",
    "    populations_string = ''\n",
    "    #Looping through the new list to add commas\n",
    "    for item in populations:\n",
    "        populations_string += f\"{item}, \"\n",
    "    return populations_string\n",
    "\n",
    "\n",
    "print('Populations: ',get_population_names(), '\\n')"
   ]
  },
  {
   "attachments": {},
   "cell_type": "markdown",
   "id": "crazy-blame",
   "metadata": {},
   "source": [
    "#### Exercise 05. Does the dataset contain NAs? (★☆☆)\n",
    "\n",
    "Print a boolean value (`True` or `False`) followed by the rows/cols that contains NAs."
   ]
  },
  {
   "cell_type": "code",
   "execution_count": 11,
   "id": "transparent-poetry",
   "metadata": {},
   "outputs": [
    {
     "name": "stdout",
     "output_type": "stream",
     "text": [
      "True\n",
      "The data set contains 65690 NaNs in columns : realEstate_name, phone_realEstate, rooms, bathrooms, surface, description, level4, level6, level7, level8, zipCode, customZone\n"
     ]
    }
   ],
   "source": [
    "def check_NAs():\n",
    "    NAs_in_dataset = data_set.isnull().sum().sum()\n",
    "    if NAs_in_dataset > 0:\n",
    "        print(True)\n",
    "        NAs_in_cols = []\n",
    "        for column in data_set.columns:\n",
    "            if data_set[column].isnull().values.any():\n",
    "                NAs_in_cols.append(column)\n",
    "        print(f\"The data set contains {NAs_in_dataset} NaNs in columns : {', '.join(NAs_in_cols)}\")\n",
    "    else:\n",
    "        print(False)\n",
    "check_NAs()"
   ]
  },
  {
   "attachments": {},
   "cell_type": "markdown",
   "id": "italic-hydrogen",
   "metadata": {},
   "source": [
    "#### Exercise 06. Delete the NAs of the dataset, if applicable (★★☆)\n",
    "\n",
    "Print a comparison between the dimensions of the original DataFrame versus the DataFrame after the deletions."
   ]
  },
  {
   "cell_type": "code",
   "execution_count": 13,
   "id": "administrative-roads",
   "metadata": {},
   "outputs": [
    {
     "name": "stdout",
     "output_type": "stream",
     "text": [
      "Dimensions before cleaning:  (15335, 37) \n",
      " Dimensions after cleaning:  (15335, 25)\n"
     ]
    }
   ],
   "source": [
    "#Removing columns with missing values\n",
    "clean_data_set = data_set.dropna(axis = 1)\n",
    "print('Dimensions before cleaning: ', data_set.shape, '\\n', 'Dimensions after cleaning: ', clean_data_set.shape)\n"
   ]
  },
  {
   "attachments": {},
   "cell_type": "markdown",
   "id": "middle-china",
   "metadata": {},
   "source": [
    "#### Exercise 07. Which is the mean of prices in the population (level5 column) of \"Arroyomolinos (Madrid)\"? (★★☆)\n",
    "\n",
    "Print the obtained value."
   ]
  },
  {
   "cell_type": "code",
   "execution_count": 14,
   "id": "nuclear-belief",
   "metadata": {},
   "outputs": [
    {
     "name": "stdout",
     "output_type": "stream",
     "text": [
      "The mean of the prices in the population 'Arroyomolinos (Madrid)' is 294541.59854014596\n"
     ]
    }
   ],
   "source": [
    "selected_rows = data_set.loc[data_set['level5'] == 'Arroyomolinos (Madrid)']\n",
    "print(f\"The mean of the prices in the population 'Arroyomolinos (Madrid)' is {selected_rows.price.mean(skipna = True)}\")\n"
   ]
  },
  {
   "attachments": {},
   "cell_type": "markdown",
   "id": "concerned-radical",
   "metadata": {},
   "source": [
    "#### Exercise 08. Plot the histogram of prices for the population (level5 column) of \"Arroyomolinos (Madrid)\" and explain what you observe (★★☆)\n",
    "\n",
    "Print the histogram of the prices and write in the Markdown cell a brief analysis about the plot."
   ]
  },
  {
   "cell_type": "code",
   "execution_count": 16,
   "id": "sudden-message",
   "metadata": {},
   "outputs": [
    {
     "data": {
      "image/png": "[encoded data removed]",
      "text/plain": [
       "<Figure size 640x480 with 1 Axes>"
      ]
     },
     "metadata": {},
     "output_type": "display_data"
    }
   ],
   "source": [
    "plt.hist(selected_rows.price)\n",
    "plt.title('Price Histogram')\n",
    "plt.savefig('plots/Histogram.png')\n",
    "plt.show()\n",
    "\n"
   ]
  },
  {
   "attachments": {},
   "cell_type": "markdown",
   "id": "impressed-combination",
   "metadata": {},
   "source": [
    "#Conclusion:  The majority of the data falls into 300000"
   ]
  },
  {
   "attachments": {},
   "cell_type": "markdown",
   "id": "actual-edinburgh",
   "metadata": {},
   "source": [
    "#### Exercise 09. Are the average prices of \"Valdemorillo\" and \"Galapagar\" the same? (★★☆)\n",
    "\n",
    "Print both average prices and then write a conclusion about them."
   ]
  },
  {
   "cell_type": "code",
   "execution_count": 17,
   "id": "numeric-commerce",
   "metadata": {},
   "outputs": [
    {
     "name": "stdout",
     "output_type": "stream",
     "text": [
      "The average prices in 'Valdemorillo' (363860.2931034483) and 'Galapagar' (360063.20238095237) are different\n"
     ]
    }
   ],
   "source": [
    "def get_population_mean(target_pop : str, target_column : str) -> float:\n",
    "    selected_rows = data_set.loc[data_set['level5'] == target_pop]\n",
    "    return selected_rows[target_column].mean(skipna = True)\n",
    "\n",
    "\n",
    "avg_price_1 = get_population_mean('Valdemorillo', 'price')\n",
    "avg_price_2 = get_population_mean('Galapagar', 'price')\n",
    "\n",
    "print(f\"The average prices in 'Valdemorillo' ({str(avg_price_1)}) and 'Galapagar' ({avg_price_2}) are {'the same' if avg_price_1 == avg_price_2 else 'different'}\")\n"
   ]
  },
  {
   "attachments": {},
   "cell_type": "markdown",
   "id": "lonely-article",
   "metadata": {},
   "source": [
    "#### Exercise 10. Are the average prices per square meter (price/m2) of \"Valdemorillo\" and \"Galapagar\" the same? (★★☆)\n",
    "\n",
    "Print both average prices and then write a conclusion about it.\n",
    "\n",
    "Hint: Create a new column called `pps` (price per square meter) and then analyze the values."
   ]
  },
  {
   "cell_type": "code",
   "execution_count": 18,
   "id": "hourly-globe",
   "metadata": {},
   "outputs": [
    {
     "name": "stdout",
     "output_type": "stream",
     "text": [
      "The average price per square meter in 'Valdemorillo' (658.9751054512493) and 'Galapagar' (803.1620151547012) are different\n"
     ]
    }
   ],
   "source": [
    "data_set['pps'] = data_set.price / (data_set.surface * 2)\n",
    "avg_pps_1 = get_population_mean('Valdemorillo', 'pps')\n",
    "avg_pps_2 = get_population_mean('Galapagar', 'pps')\n",
    "\n",
    "print(f\"The average price per square meter in 'Valdemorillo' ({str(avg_pps_1)}) and 'Galapagar' ({avg_pps_2}) are {'the same' if avg_price_1 == avg_price_2 else 'different'}\")\n"
   ]
  },
  {
   "attachments": {},
   "cell_type": "markdown",
   "id": "pleasant-invite",
   "metadata": {},
   "source": [
    "#### Exercise 11. Analyze the relation between the surface and the price of the houses (★★☆)\n",
    "\n",
    "Hint: You can make a `scatter plot`, then write a conclusion about it."
   ]
  },
  {
   "cell_type": "code",
   "execution_count": 19,
   "id": "common-drilling",
   "metadata": {},
   "outputs": [
    {
     "data": {
      "image/png": "[encoded data removed]",
      "text/plain": [
       "<Figure size 640x480 with 1 Axes>"
      ]
     },
     "metadata": {},
     "output_type": "display_data"
    }
   ],
   "source": [
    "plt.scatter(data_set.surface, data_set.price)\n",
    "plt.title('Surface/Price Scatter Plot')\n",
    "plt.savefig('plots/Scatter Plot.png')\n",
    "plt.show()\n"
   ]
  },
  {
   "attachments": {},
   "cell_type": "markdown",
   "id": "ahead-liquid",
   "metadata": {},
   "source": [
    "\n",
    "#Conclusion: The surface remains constant as the price increases, with a few exceptions"
   ]
  },
  {
   "attachments": {},
   "cell_type": "markdown",
   "id": "coordinate-sunrise",
   "metadata": {},
   "source": [
    "#### Exercise 12. How many real estate agencies does the dataset contain? (★★☆)\n",
    "\n",
    "Print the obtained value."
   ]
  },
  {
   "cell_type": "code",
   "execution_count": 20,
   "id": "valid-honolulu",
   "metadata": {},
   "outputs": [
    {
     "name": "stdout",
     "output_type": "stream",
     "text": [
      "The data set contains 1822 real estate agencies\n"
     ]
    }
   ],
   "source": [
    "print(f\"The data set contains {len(data_set['realEstate_name'].drop_duplicates())} real estate agencies\")\n"
   ]
  },
  {
   "attachments": {},
   "cell_type": "markdown",
   "id": "binding-ebony",
   "metadata": {},
   "source": [
    "#### Exercise 13. Which is the population (level5 column) that contains the most houses? (★★☆)\n",
    "\n",
    "Print both the population and the number of houses."
   ]
  },
  {
   "cell_type": "code",
   "execution_count": 22,
   "id": "static-perry",
   "metadata": {},
   "outputs": [
    {
     "name": "stdout",
     "output_type": "stream",
     "text": [
      "The population with most houses is  Madrid Capital with 6643 houses\n"
     ]
    }
   ],
   "source": [
    "pop_with_most_houses = ''\n",
    "highest_pop_count = 0\n",
    "for pop in populations:\n",
    "    selected_pop = len(data_set.loc[data_set['level5'] == pop])\n",
    "    if selected_pop > highest_pop_count:\n",
    "        highest_pop_count = selected_pop\n",
    "        pop_with_most_houses = pop\n",
    "num_of_houses = len(data_set.loc[data_set['level5'] == pop_with_most_houses])\n",
    "print(f\"The population with most houses is {pop_with_most_houses} with {str(num_of_houses)} houses\")\n"
   ]
  },
  {
   "attachments": {},
   "cell_type": "markdown",
   "id": "entire-classification",
   "metadata": {},
   "source": [
    "#### Exercise 14. Now let's work with the \"south belt\" of Madrid. Make a subset of the original DataFrame that contains the following populations (level5 column): \"Fuenlabrada\", \"Leganés\", \"Getafe\", \"Alcorcón\" (★★☆)\n",
    "\n",
    "Hint: Filter the original DataFrame using the column `level5` and the function `isin`."
   ]
  },
  {
   "cell_type": "code",
   "execution_count": 23,
   "id": "binary-input",
   "metadata": {},
   "outputs": [],
   "source": [
    "south_belt_df = data_set.query('level5 == [\"Fuenlabrada\", \"Leganés\", \"Getafe\", \"Alcorcón\"]')\n"
   ]
  },
  {
   "attachments": {},
   "cell_type": "markdown",
   "id": "severe-fisher",
   "metadata": {},
   "source": [
    "#### Exercise 15. Make a bar plot of the median of the prices and explain what you observe (you must use the subset obtained in Exercise 14) (★★★)\n",
    "\n",
    "Print the bar of the median of the prices and write in the Markdown cell a brief analysis about the plot."
   ]
  },
  {
   "cell_type": "code",
   "execution_count": 24,
   "id": "lyric-bunch",
   "metadata": {},
   "outputs": [
    {
     "data": {
      "image/png": "[encoded data removed]",
      "text/plain": [
       "<Figure size 2000x1000 with 1 Axes>"
      ]
     },
     "metadata": {},
     "output_type": "display_data"
    }
   ],
   "source": [
    "median_values = south_belt_df.groupby('level5')['price'].median()\n",
    "median_values_df = pd.DataFrame(median_values)\n",
    "bar_plot = median_values_df.plot.bar(figsize=(20, 10))\n",
    "plt.title('Population Price Median')\n",
    "plt.savefig('plots/Bar Plot.png')"
   ]
  },
  {
   "attachments": {},
   "cell_type": "markdown",
   "id": "sublime-newspaper",
   "metadata": {},
   "source": [
    "**TODO: Markdown**. To write here, double-click on this cell, remove this content and place the text you want to write. Then, execute the cell."
   ]
  },
  {
   "attachments": {},
   "cell_type": "markdown",
   "id": "speaking-diamond",
   "metadata": {},
   "source": [
    "#### Exercise 16. Calculate the sample mean and variance of the variables: price, rooms, surface area and bathrooms (you must use the subset obtained in Exercise 14) (★★★)\n",
    "\n",
    "Print both values for each variable."
   ]
  },
  {
   "cell_type": "code",
   "execution_count": 25,
   "id": "random-feeling",
   "metadata": {},
   "outputs": [
    {
     "name": "stdout",
     "output_type": "stream",
     "text": [
      "The mean of price is 223094.48070562293 and its variation is 14921367508.04902\n",
      "The mean of rooms is 3.0177383592017737 and its variation is 0.7188858892927542\n",
      "The mean of surface is 111.75222363405337 and its variation is 4263.051760316337\n",
      "The mean of bathrooms is 1.633221850613155 and its variation is 0.5717968625577321\n"
     ]
    }
   ],
   "source": [
    "def calc_mean_of_column(data_frame : pd.DataFrame, column_name : str):\n",
    "    return data_frame[column_name].mean()\n",
    "\n",
    "def calc_variance_of_column(data_frame : pd.DataFrame, column_name : str):\n",
    "    return data_frame[column_name].var()\n",
    "\n",
    "for col in ['price', 'rooms', 'surface', 'bathrooms']:\n",
    "    print(f\"The mean of {col} is {str(calc_mean_of_column(south_belt_df, col))} and its variation is {str(calc_variance_of_column(south_belt_df, col))}\")\n"
   ]
  },
  {
   "attachments": {},
   "cell_type": "markdown",
   "id": "revolutionary-matrix",
   "metadata": {},
   "source": [
    "#### Exercise 17. What is the most expensive house in each population? You must use the subset obtained in Exercise 14 (★★☆)\n",
    "\n",
    "Print both the address and the price of the selected house of each population. You can print a DataFrame or a single line for each population."
   ]
  },
  {
   "cell_type": "code",
   "execution_count": 26,
   "id": "fifteen-browse",
   "metadata": {},
   "outputs": [
    {
     "name": "stdout",
     "output_type": "stream",
     "text": [
      "The most expensive house in Fuenlabrada is 11561,    Calle de Paulo Freire, 5, Fuenlabrada with a price of 490000\n",
      "The most expensive house in Alcorcón is 5585,    Alcorcón with a price of 950000\n",
      "The most expensive house in Leganés is 10412,    Avenida Reina Sofía, Leganés with a price of 650000\n",
      "The most expensive house in Getafe is 2881,    Getafe with a price of 1050000\n"
     ]
    }
   ],
   "source": [
    "for pop in south_belt_df.level5.drop_duplicates():\n",
    "    max_price = south_belt_df.loc[south_belt_df['level5'] == pop]['price'].max()\n",
    "    print(f\"The most expensive house in {pop} is {get_address_with_price(south_belt_df, max_price)} with a price of {str(max_price)}\")\n"
   ]
  },
  {
   "attachments": {},
   "cell_type": "markdown",
   "id": "activated-knight",
   "metadata": {},
   "source": [
    "#### Exercise 18. Normalize the variable of prices for each population and plot the 4 histograms in the same plot (you must use the subset obtained in Exercise 14) (★★★)\n",
    "\n",
    "For the normalization method, you can use the one you consider; there is not a single correct answer to this question. Print the plot and write in the Markdown cell a brief analysis about the plot.\n",
    "\n",
    "Hint: You can help yourself by reviewing the *multihist* demo of Matplotlib."
   ]
  },
  {
   "cell_type": "code",
   "execution_count": 27,
   "id": "civic-meditation",
   "metadata": {},
   "outputs": [
    {
     "data": {
      "image/png": "[encoded data removed]",
      "text/plain": [
       "<Figure size 640x480 with 4 Axes>"
      ]
     },
     "metadata": {},
     "output_type": "display_data"
    }
   ],
   "source": [
    "normalized_values = []\n",
    "south_belt_df_scaled = south_belt_df.copy()\n",
    "for pop in south_belt_df.level5.drop_duplicates():\n",
    "    normalized_pop_group = south_belt_df.loc[south_belt_df['level5'] == pop]['price']  / south_belt_df.loc[south_belt_df['level5'] == pop]['price'].abs().max()\n",
    "    normalized_values.append(pd.DataFrame(normalized_pop_group).to_numpy())\n",
    "\n",
    "fig, axes = plt.subplots(nrows=2, ncols=2)\n",
    "n_bins = 10\n",
    "ax0, ax1, ax2, ax3 = axes.flat\n",
    "plot_titles = south_belt_df.level5.drop_duplicates().values\n",
    "\n",
    "ax0.hist(normalized_values[0], n_bins, histtype='bar')\n",
    "ax0.set_title(plot_titles[0])\n",
    "\n",
    "ax1.hist(normalized_values[1], n_bins, histtype='bar')\n",
    "ax1.set_title(plot_titles[1])\n",
    "\n",
    "ax2.hist(normalized_values[2], n_bins, histtype='bar')\n",
    "ax2.set_title(plot_titles[2])\n",
    "\n",
    "ax3.hist(normalized_values[3], n_bins, histtype='bar')\n",
    "ax3.set_title(plot_titles[3])\n",
    "\n",
    "plt.tight_layout()\n",
    "plt.savefig('plots/MultiHistogram.png')\n",
    "plt.show()\n"
   ]
  },
  {
   "attachments": {},
   "cell_type": "markdown",
   "id": "precise-heavy",
   "metadata": {},
   "source": [
    "**TODO: Markdown**. To write here, double-click on this cell, remove this content and place the text you want to write. Then, execute the cell."
   ]
  },
  {
   "attachments": {},
   "cell_type": "markdown",
   "id": "patent-jonathan",
   "metadata": {},
   "source": [
    "#### Exercise 19. What can you say about the price per square meter (price/m2) between the towns of \"Getafe\" and \"Alcorcón\"? You must use the subset obtained in Exercise 14 (★★☆)\n",
    "\n",
    "Hint: Create a new column called `pps` (price per square meter) and then analyze the values."
   ]
  },
  {
   "cell_type": "code",
   "execution_count": 28,
   "id": "initial-liverpool",
   "metadata": {},
   "outputs": [
    {
     "name": "stdout",
     "output_type": "stream",
     "text": [
      "The price per square meter mean in Alcorcón(1119.651240099809) is greater than the value in Getafe(1033.1574746257315)\n"
     ]
    }
   ],
   "source": [
    "pps_mean1 = south_belt_df.loc[south_belt_df['level5'] == 'Getafe']['pps'].mean()\n",
    "pps_mean2 = south_belt_df.loc[south_belt_df['level5'] == 'Alcorcón']['pps'].mean()\n",
    "\n",
    "if pps_mean1 > pps_mean2:\n",
    "    print(f\"The price per square meter mean in Getafe({pps_mean1}) is greater than the value in Alcorcón({pps_mean2})\")\n",
    "else:\n",
    "    print(f\"The price per square meter mean in Alcorcón({pps_mean2}) is greater than the value in Getafe({pps_mean1})\")\n",
    "    "
   ]
  },
  {
   "attachments": {},
   "cell_type": "markdown",
   "id": "enhanced-moscow",
   "metadata": {},
   "source": [
    "#### Exercise 20. Make the same plot for 4 different populations (level5 column) and rearrange them on the same graph. You must use the subset obtained in Exercise 14 (★★☆)\n",
    " \n",
    "Hint: Make a scatter plot of each population using subplots."
   ]
  },
  {
   "cell_type": "code",
   "execution_count": 30,
   "id": "accepting-airfare",
   "metadata": {},
   "outputs": [
    {
     "data": {
      "image/png": "[encoded data removed]",
      "text/plain": [
       "<Figure size 640x480 with 4 Axes>"
      ]
     },
     "metadata": {},
     "output_type": "display_data"
    }
   ],
   "source": [
    "fig, axes = plt.subplots(nrows=2, ncols=2, sharex=True, sharey=True)\n",
    "ax0, ax1, ax2, ax3 = axes.flat\n",
    "\n",
    "ax0.scatter(normalized_values[0], normalized_values[0])\n",
    "ax0.set_title(plot_titles[0])\n",
    "\n",
    "ax1.scatter(normalized_values[1], normalized_values[1])\n",
    "ax1.set_title(plot_titles[1])\n",
    "\n",
    "ax2.scatter(normalized_values[2], normalized_values[2])\n",
    "ax2.set_title(plot_titles[2])\n",
    "\n",
    "ax3.scatter(normalized_values[3], normalized_values[3])\n",
    "ax3.set_title(plot_titles[3])\n",
    "\n",
    "plt.tight_layout()\n",
    "plt.savefig('plots/MultiScatterPlot.png')\n",
    "plt.show()\n"
   ]
  },
  {
   "attachments": {},
   "cell_type": "markdown",
   "id": "blocked-effects",
   "metadata": {},
   "source": [
    "#### Exercise 21. Make a plot of the coordinates (latitude and longitude columns) of the south belt of Madrid by color of each population (you must use the subset obtained in Exercise 14) (★★★★)\n",
    "\n",
    "Execute the following cell, and then start coding in the next one. You must implement a simple code that transforms the coordinates columns in a Python dictionary (add more information if needed) and then add it to the map"
   ]
  },
  {
   "cell_type": "code",
   "execution_count": 37,
   "id": "headed-privacy",
   "metadata": {},
   "outputs": [
    {
     "name": "stderr",
     "output_type": "stream",
     "text": [
      "/tmp/ipykernel_1757/414797405.py:9: DeprecationWarning: DataFrameGroupBy.apply operated on the grouping columns. This behavior is deprecated, and in a future version of pandas the grouping columns will be excluded from the operation. Either pass `include_groups=False` to exclude the groupings or explicitly select the grouping columns after groupby to silence this warning.\n",
      "  population_coord = subset.groupby('level5').apply(lambda x: x[['latitude', 'longitude']].to_dict(orient='records')).to_dict()\n"
     ]
    },
    {
     "data": {
      "application/vnd.jupyter.widget-view+json": {
       "model_id": "90894d749a284baa89cb46aead83870a",
       "version_major": 2,
       "version_minor": 0
      },
      "text/plain": [
       "Map(center=[40.4168, -3.7038], controls=(ZoomControl(options=['position', 'zoom_in_text', 'zoom_in_title', 'zo…"
      ]
     },
     "execution_count": 37,
     "metadata": {},
     "output_type": "execute_result"
    }
   ],
   "source": [
    "\n",
    "\n",
    "# Map centered on (60 degrees latitude and -2.2 degrees longitude)\n",
    "# Latitude, longitude\n",
    "ds = pd.read_csv('assets/real_estate.csv', sep=';')\n",
    "data_frame = pd.DataFrame(ds)\n",
    "populations = ['Fuenlabrada', 'Leganés', 'Getafe', 'Alcorcón']\n",
    "subset = data_frame[data_frame['level5'].isin(populations)]\n",
    "x = subset['latitude'].str.replace(',', '.').astype(float).to_list()\n",
    "y = subset['longitude'].str.replace(',', '.').astype(float).to_list()\n",
    "population_coord = subset.groupby('level5').apply(lambda x: x[['latitude', 'longitude']].to_dict(orient='records')).to_dict()\n",
    "colors = {\n",
    "    'Fuenlabrada': 'red',\n",
    "    'Leganés': 'blue',\n",
    "    'Getafe': 'green',\n",
    "    'Alcorcón': 'purple'\n",
    "}\n",
    "madrid_map = Map(center=(40.4168, -3.7038), zoom=12, basemap=basemaps.OpenStreetMap.Mapnik)\n",
    "for population, coords in population_coord.items():\n",
    "    for coord in coords:\n",
    "        marker = CircleMarker(location=(coord['latitude'], coord['longitude']),\n",
    "                              radius=5,\n",
    "                              color=colors[population],\n",
    "                              fill=True,\n",
    "                              fill_color=colors[population])\n",
    "        madrid_map.add_layer(marker)\n",
    "\n",
    "madrid_map"
   ]
  }
 ],
 "metadata": {
  "kernelspec": {
   "display_name": "Python 3",
   "language": "python",
   "name": "python3"
  },
  "language_info": {
   "codemirror_mode": {
    "name": "ipython",
    "version": 3
   },
   "file_extension": ".py",
   "mimetype": "text/x-python",
   "name": "python",
   "nbconvert_exporter": "python",
   "pygments_lexer": "ipython3",
   "version": "3.11.4"
  }
 },
 "nbformat": 4,
 "nbformat_minor": 5
}
